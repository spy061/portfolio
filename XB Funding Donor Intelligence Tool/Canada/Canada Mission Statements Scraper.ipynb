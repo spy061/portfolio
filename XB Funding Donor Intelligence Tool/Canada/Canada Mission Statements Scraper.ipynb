{
 "cells": [
  {
   "cell_type": "markdown",
   "id": "8f5fa1dd",
   "metadata": {},
   "source": [
    "CANADA MISSION NEWS ARTICLES"
   ]
  },
  {
   "cell_type": "markdown",
   "id": "1a24abdf",
   "metadata": {},
   "source": [
    "https://www.international.gc.ca/world-monde/international_relations-relations_internationales/un-onu/statements-declarations/index.aspx?lang=eng"
   ]
  },
  {
   "cell_type": "markdown",
   "id": "9442acdc",
   "metadata": {},
   "source": [
    "STEP 1 - SCRAPE DATA FROM WEBSITE"
   ]
  },
  {
   "cell_type": "code",
   "execution_count": 1,
   "id": "98861f81",
   "metadata": {},
   "outputs": [],
   "source": [
    "import requests\n",
    "from bs4 import BeautifulSoup\n",
    "from datetime import datetime\n",
    "import pandas as pd"
   ]
  },
  {
   "cell_type": "code",
   "execution_count": 16,
   "id": "bb3dea00",
   "metadata": {},
   "outputs": [
    {
     "name": "stdout",
     "output_type": "stream",
     "text": [
      "Found 2 sections inside org-news\n",
      "None\n",
      "None\n"
     ]
    }
   ],
   "source": [
    "org_news_div = soup.find(\"div\", class_=\"org-news\")\n",
    "if org_news_div:\n",
    "    feed_sections = org_news_div.find_all(\"section\", class_=\"wb-feeds\")\n",
    "    print(f\"Found {len(feed_sections)} sections inside org-news\")\n",
    "    for sec in feed_sections:\n",
    "        print(sec.get('id'))\n",
    "else:\n",
    "    print(\"No org-news div found\")"
   ]
  },
  {
   "cell_type": "code",
   "execution_count": 24,
   "id": "20fc64d3",
   "metadata": {},
   "outputs": [
    {
     "name": "stdout",
     "output_type": "stream",
     "text": [
      "🔍 Found 2 <section> blocks in .org-news\n",
      "➡️ Scraping Section #1 — Found 22 <li> tags\n",
      "➡️ Scraping Section #2 — Found 183 <li> tags\n",
      "\n",
      "🧾 Total <li> tags processed: 205\n",
      "✅ Extracted 152 articles after 2018-01-01\n",
      "                                               title  \\\n",
      "0  Statement by Canada, Australia and New Zealand...   \n",
      "1  Statement by the Group of Friends of Children ...   \n",
      "2  Security Council open debate on “Poverty, unde...   \n",
      "3  Statement of the Co-Chairs of the “United Nati...   \n",
      "4  Explanation of Vote – Yes – Protection of civi...   \n",
      "\n",
      "                                                 url        date  \n",
      "0  https://www.international.gc.ca/world-monde/in...  2025-06-25  \n",
      "1  https://www.international.gc.ca/world-monde/in...  2025-06-25  \n",
      "2  https://www.international.gc.ca/world-monde/in...  2025-06-19  \n",
      "3  https://www.international.gc.ca/world-monde/in...  2025-06-17  \n",
      "4  https://www.international.gc.ca/world-monde/in...  2025-06-12  \n"
     ]
    }
   ],
   "source": [
    "from selenium import webdriver\n",
    "from selenium.webdriver.chrome.options import Options\n",
    "from bs4 import BeautifulSoup\n",
    "import pandas as pd\n",
    "from datetime import datetime\n",
    "import time\n",
    "from dateutil import parser\n",
    "\n",
    "\n",
    "\n",
    "\n",
    "URL = \"https://www.international.gc.ca/world-monde/international_relations-relations_internationales/un-onu/statements-declarations/index.aspx?lang=eng\"\n",
    "CUTOFF_DATE = datetime(2018, 1, 1)\n",
    "\n",
    "\n",
    "driver = webdriver.Chrome()\n",
    "driver.get(URL)\n",
    "\n",
    "# ⏱️ Wait for the JavaScript to finish loading content\n",
    "time.sleep(10)\n",
    "\n",
    "soup = BeautifulSoup(driver.page_source, \"html.parser\")\n",
    "driver.quit()\n",
    "\n",
    "# ✅ Parse content from .org-news div\n",
    "org_news = soup.find(\"div\", class_=\"org-news\")\n",
    "sections = org_news.find_all(\"section\") if org_news else []\n",
    "\n",
    "print(f\"🔍 Found {len(sections)} <section> blocks in .org-news\")\n",
    "\n",
    "articles = []\n",
    "total_li_count = 0\n",
    "\n",
    "for i, section in enumerate(sections, 1):\n",
    "    li_tags = section.find_all(\"li\")\n",
    "    print(f\"➡️ Scraping Section #{i} — Found {len(li_tags)} <li> tags\")\n",
    "    total_li_count += len(li_tags)\n",
    "\n",
    "    for li in li_tags:\n",
    "        a_tag = li.find(\"a\", href=True)\n",
    "        time_tag = li.find(\"time\")\n",
    "\n",
    "        if not a_tag or not time_tag:\n",
    "            continue\n",
    "\n",
    "        title = a_tag.get_text(strip=True)\n",
    "        href = a_tag[\"href\"].strip()\n",
    "        url = href if href.startswith(\"http\") else \"https://www.international.gc.ca\" + href\n",
    "        date_str = time_tag.get_text(strip=True)\n",
    "\n",
    "        try:\n",
    "            date = parser.parse(date_str)\n",
    "        except Exception:\n",
    "            print(f\"⚠️ Skipping due to unrecognized date: '{date_str}'\")\n",
    "            continue\n",
    "\n",
    "        if date >= CUTOFF_DATE:\n",
    "            articles.append({\n",
    "                \"title\": title,\n",
    "                \"url\": url,\n",
    "                \"date\": date.strftime(\"%Y-%m-%d\")\n",
    "            })\n",
    "\n",
    "df = pd.DataFrame(articles)\n",
    "print(f\"\\n🧾 Total <li> tags processed: {total_li_count}\")\n",
    "print(f\"✅ Extracted {len(df)} articles after {CUTOFF_DATE.strftime('%Y-%m-%d')}\")\n",
    "print(df.head())\n"
   ]
  },
  {
   "cell_type": "code",
   "execution_count": 25,
   "id": "12fe85e1",
   "metadata": {},
   "outputs": [],
   "source": [
    "def extract_clean_paragraphs(paragraphs):\n",
    "    cleaned = []\n",
    "    for p in paragraphs:\n",
    "        # Skip if <p> only contains one <strong> or <em>\n",
    "        children = list(p.children)\n",
    "        if len(children) == 1 and (p.find(\"strong\") or p.find(\"em\")):\n",
    "            continue\n",
    "        text = p.get_text(strip=True)\n",
    "        if text and len(text) > 30:  # Filter out short/boilerplate\n",
    "            cleaned.append(text)\n",
    "    return \"\\n\\n\".join(cleaned)\n",
    "\n",
    "def extract_article_content(url):\n",
    "    try:\n",
    "        res = requests.get(url, timeout=10)\n",
    "        soup = BeautifulSoup(res.content, \"html.parser\")\n",
    "        main = soup.find(\"main\")\n",
    "        if not main:\n",
    "            return \"\"\n",
    "        paragraphs = main.find_all(\"p\")\n",
    "        return extract_clean_paragraphs(paragraphs)\n",
    "    except Exception as e:\n",
    "        print(f\"❌ Failed to scrape {url}: {e}\")\n",
    "        return \"\""
   ]
  },
  {
   "cell_type": "code",
   "execution_count": null,
   "id": "1177455b",
   "metadata": {},
   "outputs": [],
   "source": [
    "# Add new \"content\" column to the existing DataFrame\n",
    "df[\"text\"] = df[\"url\"].apply(extract_article_content)\n",
    "\n",
    "excel_path = \"canada_mission_statements.xlsx\"\n",
    "sheet_name = 'raw'\n",
    "\n",
    "df.to_excel(excel_path, sheet_name=sheet_name, index=False)\n",
    "print(f\"📄 Articles saved to {excel_path}\")"
   ]
  },
  {
   "cell_type": "markdown",
   "id": "69241f5d",
   "metadata": {},
   "source": [
    "STEP 2 - DATA ANALYSIS"
   ]
  },
  {
   "cell_type": "code",
   "execution_count": 65,
   "id": "d26705bd",
   "metadata": {},
   "outputs": [],
   "source": [
    "from sklearn.feature_extraction.text import CountVectorizer\n",
    "from sklearn.feature_extraction.text import TfidfVectorizer\n",
    "from sklearn.decomposition import LatentDirichletAllocation\n",
    "from sklearn.feature_extraction import _stop_words\n",
    "from gensim import corpora\n",
    "from gensim.models import Phrases, LdaModel\n",
    "from gensim.models.phrases import Phraser\n",
    "from wordcloud import WordCloud\n",
    "import numpy as np\n",
    "import matplotlib.pyplot as plt\n",
    "import re\n",
    "\n",
    "# Custom stopwords\n",
    "custom_stopwords = set([\n",
    "    \"canada\", \"government\", \"united\", \"nations\", \"international\", \"world\",\n",
    "    \"statement\", \"statements\", \"mission\", \"declaration\", \"relations\",\n",
    "    \"un\", \"onu\", \"foreign\", \"policy\", \"minister\", \"ministry\", 'security',\n",
    "    'council', 'states', 'support', 'group', 'people', 'including', 'efforts',\n",
    "    'continue', 'charter', 'member', 'resolution', 'need', 'ensure', 'president',\n",
    "    'global', 'countries', 'today', 'challenges', 'know', 'action', 'make',\n",
    "    'canadas'\n",
    "])\n",
    "\n",
    "texts = df['text']\n",
    "\n",
    "# Combine the default English stopwords with custom list:\n",
    "english_stopwords = _stop_words.ENGLISH_STOP_WORDS  # set of default english stopwords\n",
    "all_stopwords = list(english_stopwords.union(custom_stopwords))\n",
    "\n",
    "vectorizer = CountVectorizer(\n",
    "    max_df=0.85, \n",
    "    min_df=5, \n",
    "    stop_words=all_stopwords\n",
    ")"
   ]
  },
  {
   "cell_type": "markdown",
   "id": "6649a445",
   "metadata": {},
   "source": [
    "Theme Identification via Natural Language Processing (NLP)"
   ]
  },
  {
   "cell_type": "code",
   "execution_count": 66,
   "id": "25b22e33",
   "metadata": {},
   "outputs": [
    {
     "name": "stdout",
     "output_type": "stream",
     "text": [
      "Topic 0:\n",
      "['weapons', 'nuclear', 'disarmament']\n",
      "Topic 1:\n",
      "['women', 'gender', 'violence']\n",
      "Topic 2:\n",
      "['women', 'peace', 'peacekeeping']\n",
      "Topic 3:\n",
      "['ukraine', 'russia', 'war']\n",
      "Topic 4:\n",
      "['children', 'conflict', 'humanitarian']\n"
     ]
    }
   ],
   "source": [
    "# Topic Identification without bigrams\n",
    "dtm = vectorizer.fit_transform(texts)\n",
    "\n",
    "lda = LatentDirichletAllocation(n_components=5, random_state=42)\n",
    "lda.fit(dtm)\n",
    "\n",
    "# Function to print topics\n",
    "def print_topics(model, feature_names, n_top_words):\n",
    "    for idx, topic in enumerate(model.components_):\n",
    "        print(f\"Topic {idx}:\")\n",
    "        print([feature_names[i] for i in topic.argsort()[:-n_top_words - 1:-1]])\n",
    "\n",
    "print_topics(lda, vectorizer.get_feature_names_out(),3)"
   ]
  },
  {
   "cell_type": "code",
   "execution_count": 67,
   "id": "8b263862",
   "metadata": {},
   "outputs": [
    {
     "data": {
      "image/png": "[encoded data removed]",
      "text/plain": [
       "<Figure size 600x600 with 3 Axes>"
      ]
     },
     "metadata": {},
     "output_type": "display_data"
    }
   ],
   "source": [
    "# Topic identification with bigrams\n",
    "# Text preprocessing function\n",
    "def preprocess(text):\n",
    "    text = text.lower()\n",
    "    text = re.sub(r'[^a-z\\s]', '', text)\n",
    "    tokens = text.split()\n",
    "    tokens = [token for token in tokens if token not in all_stopwords and len(token) > 2]\n",
    "    return tokens\n",
    "\n",
    "# Tokenize texts\n",
    "tokenized_texts = [preprocess(doc) for doc in texts]\n",
    "\n",
    "# Build bigrams\n",
    "bigram_model = Phrases(tokenized_texts, min_count=5, threshold=10)\n",
    "bigram_phraser = Phraser(bigram_model)\n",
    "texts_with_bigrams = [bigram_phraser[doc] for doc in tokenized_texts]\n",
    "\n",
    "# Create dictionary and corpus for LDA\n",
    "dictionary = corpora.Dictionary(texts_with_bigrams)\n",
    "dictionary.filter_extremes(no_below=5, no_above=0.75)\n",
    "corpus = [dictionary.doc2bow(text) for text in texts_with_bigrams]\n",
    "\n",
    "# Train LDA model with 3 topics\n",
    "num_topics = 3\n",
    "lda_model = LdaModel(\n",
    "    corpus=corpus,\n",
    "    id2word=dictionary,\n",
    "    num_topics=num_topics,\n",
    "    random_state=42,\n",
    "    passes=10,\n",
    "    alpha='auto',\n",
    "    per_word_topics=True\n",
    ")\n",
    "\n",
    "# Define figure size in inches for a roughly square layout\n",
    "fig_width = 6\n",
    "fig_height = 6\n",
    "\n",
    "# Each word cloud will have height = fig_height / num_topics\n",
    "wc_width = int(fig_width * 100)   # 100 dpi\n",
    "wc_height = int((fig_height / num_topics) * 100)\n",
    "\n",
    "plt.figure(figsize=(fig_width, fig_height))\n",
    "\n",
    "for topic_id in range(num_topics):\n",
    "    plt.subplot(num_topics, 1, topic_id + 1)\n",
    "    words_probs = dict(lda_model.show_topic(topic_id, topn=5))\n",
    "    wc = WordCloud(\n",
    "        width=wc_width,\n",
    "        height=wc_height,\n",
    "        background_color='white',\n",
    "        colormap='tab10',\n",
    "        prefer_horizontal=0.9,\n",
    "        min_font_size=15,\n",
    "    ).generate_from_frequencies(words_probs)\n",
    "    plt.imshow(wc, interpolation='bilinear')\n",
    "    plt.axis('off')\n",
    "    plt.title(f\"Topic {topic_id + 1}\", fontsize=14)\n",
    "\n",
    "plt.tight_layout()\n",
    "plt.show()"
   ]
  },
  {
   "cell_type": "code",
   "execution_count": 68,
   "id": "95656ef5",
   "metadata": {},
   "outputs": [
    {
     "name": "stdout",
     "output_type": "stream",
     "text": [
      "Data successfully saved to Topic_WordCloud in canada_mission_statements.xlsx\n"
     ]
    }
   ],
   "source": [
    "# Export Topics Words and Weights to Excel for PowerBI\n",
    "topic_words = []\n",
    "num_words = 5  # Adjust based on your needs\n",
    "\n",
    "for topic_id in range(num_topics):\n",
    "    words_probs = lda_model.show_topic(topic_id, topn=num_words)\n",
    "    for word, prob in words_probs:\n",
    "        topic_words.append({\"Topic\": topic_id + 1, \"Word\": word, \"Probability\": prob})\n",
    "\n",
    "# Convert to DataFrame\n",
    "wc = pd.DataFrame(topic_words)\n",
    "\n",
    "sheet_name = \"Topic_WordCloud\"\n",
    "\n",
    "with pd.ExcelWriter(excel_path, engine='openpyxl', mode='a', if_sheet_exists=\"replace\") as writer:\n",
    "    wc.to_excel(writer, sheet_name=sheet_name, index=False)\n",
    "\n",
    "print(f\"Data successfully saved to {sheet_name} in {excel_path}\")"
   ]
  },
  {
   "cell_type": "markdown",
   "id": "71e740de",
   "metadata": {},
   "source": [
    "Identifying Themes via Keyword Frequency"
   ]
  },
  {
   "cell_type": "code",
   "execution_count": 69,
   "id": "b5b3bb89",
   "metadata": {},
   "outputs": [
    {
     "name": "stdout",
     "output_type": "stream",
     "text": [
      "Bag of Words Matrix:\n",
      "    000  10  1325  15  16  18  19  1945  20  2015  ...  year  years  yemen  \\\n",
      "0    0   0     0   0   0   0   0     0   0     0  ...     0      0      0   \n",
      "1    0   0     0   0   0   0   0     0   1     0  ...     1      1      0   \n",
      "2    0   0     0   0   0   0   0     0   0     0  ...     1      0      0   \n",
      "3    0   0     0   0   0   0   0     0   0     0  ...     0      0      0   \n",
      "4    0   0     0   0   0   0   0     0   0     0  ...     0      0      0   \n",
      "\n",
      "   yes  yesterday  york  young  youth  zambia  zealand  \n",
      "0    0          0     0      0      0       0        1  \n",
      "1    0          0     0      0      0       0        1  \n",
      "2    0          0     0      0      1       0        0  \n",
      "3    0          0     0      0      0       0        0  \n",
      "4    0          0     0      0      0       0        0  \n",
      "\n",
      "[5 rows x 1919 columns]\n"
     ]
    }
   ],
   "source": [
    "X = vectorizer.fit_transform(texts)\n",
    "\n",
    "# Convert to readable DataFrame\n",
    "X_array = X.toarray()\n",
    "vocab = vectorizer.get_feature_names_out()\n",
    "bow_df = pd.DataFrame(X_array, columns=vocab)\n",
    "\n",
    "# View output\n",
    "print(\"Bag of Words Matrix:\\n\", bow_df.head())"
   ]
  },
  {
   "cell_type": "code",
   "execution_count": 70,
   "id": "e7b8c70d",
   "metadata": {},
   "outputs": [
    {
     "name": "stdout",
     "output_type": "stream",
     "text": [
      "Top words:\n",
      "women           646\n",
      "peace           517\n",
      "conflict        422\n",
      "violence        290\n",
      "gender          289\n",
      "rights          288\n",
      "work            275\n",
      "humanitarian    248\n",
      "human           231\n",
      "children        227\n",
      "law             226\n",
      "sexual          220\n",
      "general         206\n",
      "peacekeeping    184\n",
      "ukraine         182\n",
      "armed           182\n",
      "protection      178\n",
      "based           171\n",
      "operations      168\n",
      "new             147\n",
      "dtype: int64\n"
     ]
    }
   ],
   "source": [
    "# Sum each word's count across all rows\n",
    "word_counts = bow_df.sum(axis=0)\n",
    "\n",
    "# Sort words by frequency (descending)\n",
    "top_words = word_counts.sort_values(ascending=False)\n",
    "\n",
    "print(\"Top words:\")\n",
    "print(top_words.head(20))"
   ]
  },
  {
   "cell_type": "code",
   "execution_count": 71,
   "id": "b2ee0b0c",
   "metadata": {},
   "outputs": [
    {
     "name": "stdout",
     "output_type": "stream",
     "text": [
      "Top Themes by TF-IDF:\n",
      "women           11.570230\n",
      "peace            8.146668\n",
      "conflict         7.106063\n",
      "violence         5.655102\n",
      "gender           5.568138\n",
      "rights           5.511921\n",
      "children         5.342168\n",
      "humanitarian     5.193820\n",
      "sexual           5.031929\n",
      "human            4.560863\n",
      "dtype: float64\n"
     ]
    }
   ],
   "source": [
    "# Determine the most important words using TF-IDF\n",
    "# Create a TF-IDF Vectorizer\n",
    "tfidf_vectorizer = TfidfVectorizer(stop_words=all_stopwords)\n",
    "tfidf_matrix = tfidf_vectorizer.fit_transform(texts)\n",
    "\n",
    "# Convert to DataFrame\n",
    "tfidf_df = pd.DataFrame(tfidf_matrix.toarray(), columns=tfidf_vectorizer.get_feature_names_out())\n",
    "\n",
    "# To get overall importance of each word across the corpus, sum TF-IDF scores across all documents\n",
    "word_importance = tfidf_df.sum(axis=0).sort_values(ascending=False)\n",
    "\n",
    "print(\"Top Themes by TF-IDF:\")\n",
    "print(word_importance.head(10))"
   ]
  },
  {
   "cell_type": "markdown",
   "id": "2c91f5eb",
   "metadata": {},
   "source": [
    "AI Tagging"
   ]
  },
  {
   "cell_type": "code",
   "execution_count": 79,
   "id": "40830903",
   "metadata": {},
   "outputs": [],
   "source": [
    "excel_path = 'canada_mission_statements.xlsx'"
   ]
  },
  {
   "cell_type": "code",
   "execution_count": 80,
   "id": "7bc7174b",
   "metadata": {},
   "outputs": [
    {
     "data": {
      "text/html": [
       "<div>\n",
       "<style scoped>\n",
       "    .dataframe tbody tr th:only-of-type {\n",
       "        vertical-align: middle;\n",
       "    }\n",
       "\n",
       "    .dataframe tbody tr th {\n",
       "        vertical-align: top;\n",
       "    }\n",
       "\n",
       "    .dataframe thead th {\n",
       "        text-align: right;\n",
       "    }\n",
       "</style>\n",
       "<table border=\"1\" class=\"dataframe\">\n",
       "  <thead>\n",
       "    <tr style=\"text-align: right;\">\n",
       "      <th></th>\n",
       "      <th>title</th>\n",
       "      <th>url</th>\n",
       "      <th>date</th>\n",
       "      <th>text</th>\n",
       "      <th>theme_1</th>\n",
       "      <th>theme_2</th>\n",
       "    </tr>\n",
       "  </thead>\n",
       "  <tbody>\n",
       "    <tr>\n",
       "      <th>0</th>\n",
       "      <td>Statement by Canada, Australia and New Zealand...</td>\n",
       "      <td>https://www.international.gc.ca/world-monde/in...</td>\n",
       "      <td>2025-06-25</td>\n",
       "      <td>I am pleased to deliver this statement on beha...</td>\n",
       "      <td>Children's Rights</td>\n",
       "      <td>Disarmament</td>\n",
       "    </tr>\n",
       "    <tr>\n",
       "      <th>1</th>\n",
       "      <td>Statement by the Group of Friends of Children ...</td>\n",
       "      <td>https://www.international.gc.ca/world-monde/in...</td>\n",
       "      <td>2025-06-25</td>\n",
       "      <td>I have the honour to deliver this statement on...</td>\n",
       "      <td>Peacebuilding</td>\n",
       "      <td>Children's Rights</td>\n",
       "    </tr>\n",
       "    <tr>\n",
       "      <th>2</th>\n",
       "      <td>Security Council open debate on “Poverty, unde...</td>\n",
       "      <td>https://www.international.gc.ca/world-monde/in...</td>\n",
       "      <td>2025-06-19</td>\n",
       "      <td>Canada applauds Guyana for its leadership of t...</td>\n",
       "      <td>Peacebuilding</td>\n",
       "      <td>Human Rights</td>\n",
       "    </tr>\n",
       "    <tr>\n",
       "      <th>3</th>\n",
       "      <td>Statement of the Co-Chairs of the “United Nati...</td>\n",
       "      <td>https://www.international.gc.ca/world-monde/in...</td>\n",
       "      <td>2025-06-17</td>\n",
       "      <td>Statement of the Co-Chairs of the “United Nati...</td>\n",
       "      <td>Peacebuilding</td>\n",
       "      <td>Israeli - Palestinian Conflict</td>\n",
       "    </tr>\n",
       "    <tr>\n",
       "      <th>4</th>\n",
       "      <td>Explanation of Vote – Yes – Protection of civi...</td>\n",
       "      <td>https://www.international.gc.ca/world-monde/in...</td>\n",
       "      <td>2025-06-12</td>\n",
       "      <td>Canada voted in favour of this resolution toda...</td>\n",
       "      <td>UN and Multilateral Diplomacy</td>\n",
       "      <td>Peacebuilding</td>\n",
       "    </tr>\n",
       "  </tbody>\n",
       "</table>\n",
       "</div>"
      ],
      "text/plain": [
       "                                               title  \\\n",
       "0  Statement by Canada, Australia and New Zealand...   \n",
       "1  Statement by the Group of Friends of Children ...   \n",
       "2  Security Council open debate on “Poverty, unde...   \n",
       "3  Statement of the Co-Chairs of the “United Nati...   \n",
       "4  Explanation of Vote – Yes – Protection of civi...   \n",
       "\n",
       "                                                 url        date  \\\n",
       "0  https://www.international.gc.ca/world-monde/in...  2025-06-25   \n",
       "1  https://www.international.gc.ca/world-monde/in...  2025-06-25   \n",
       "2  https://www.international.gc.ca/world-monde/in...  2025-06-19   \n",
       "3  https://www.international.gc.ca/world-monde/in...  2025-06-17   \n",
       "4  https://www.international.gc.ca/world-monde/in...  2025-06-12   \n",
       "\n",
       "                                                text  \\\n",
       "0  I am pleased to deliver this statement on beha...   \n",
       "1  I have the honour to deliver this statement on...   \n",
       "2  Canada applauds Guyana for its leadership of t...   \n",
       "3  Statement of the Co-Chairs of the “United Nati...   \n",
       "4  Canada voted in favour of this resolution toda...   \n",
       "\n",
       "                         theme_1                         theme_2  \n",
       "0              Children's Rights                     Disarmament  \n",
       "1                  Peacebuilding               Children's Rights  \n",
       "2                  Peacebuilding                    Human Rights  \n",
       "3                  Peacebuilding  Israeli - Palestinian Conflict  \n",
       "4  UN and Multilateral Diplomacy                   Peacebuilding  "
      ]
     },
     "execution_count": 80,
     "metadata": {},
     "output_type": "execute_result"
    }
   ],
   "source": [
    "tagged = pd.read_excel(excel_path, sheet_name=\"raw\")\n",
    "\n",
    "tagged.head()"
   ]
  },
  {
   "cell_type": "code",
   "execution_count": 81,
   "id": "da9cbc79",
   "metadata": {},
   "outputs": [
    {
     "data": {
      "text/html": [
       "<div>\n",
       "<style scoped>\n",
       "    .dataframe tbody tr th:only-of-type {\n",
       "        vertical-align: middle;\n",
       "    }\n",
       "\n",
       "    .dataframe tbody tr th {\n",
       "        vertical-align: top;\n",
       "    }\n",
       "\n",
       "    .dataframe thead th {\n",
       "        text-align: right;\n",
       "    }\n",
       "</style>\n",
       "<table border=\"1\" class=\"dataframe\">\n",
       "  <thead>\n",
       "    <tr style=\"text-align: right;\">\n",
       "      <th></th>\n",
       "      <th>title</th>\n",
       "      <th>url</th>\n",
       "      <th>date</th>\n",
       "      <th>text</th>\n",
       "      <th>theme</th>\n",
       "      <th>year</th>\n",
       "    </tr>\n",
       "  </thead>\n",
       "  <tbody>\n",
       "    <tr>\n",
       "      <th>0</th>\n",
       "      <td>Statement by Canada, Australia and New Zealand...</td>\n",
       "      <td>https://www.international.gc.ca/world-monde/in...</td>\n",
       "      <td>2025-06-25</td>\n",
       "      <td>I am pleased to deliver this statement on beha...</td>\n",
       "      <td>Children's Rights</td>\n",
       "      <td>2025</td>\n",
       "    </tr>\n",
       "    <tr>\n",
       "      <th>1</th>\n",
       "      <td>Statement by the Group of Friends of Children ...</td>\n",
       "      <td>https://www.international.gc.ca/world-monde/in...</td>\n",
       "      <td>2025-06-25</td>\n",
       "      <td>I have the honour to deliver this statement on...</td>\n",
       "      <td>Peacebuilding</td>\n",
       "      <td>2025</td>\n",
       "    </tr>\n",
       "    <tr>\n",
       "      <th>2</th>\n",
       "      <td>Security Council open debate on “Poverty, unde...</td>\n",
       "      <td>https://www.international.gc.ca/world-monde/in...</td>\n",
       "      <td>2025-06-19</td>\n",
       "      <td>Canada applauds Guyana for its leadership of t...</td>\n",
       "      <td>Peacebuilding</td>\n",
       "      <td>2025</td>\n",
       "    </tr>\n",
       "    <tr>\n",
       "      <th>3</th>\n",
       "      <td>Statement of the Co-Chairs of the “United Nati...</td>\n",
       "      <td>https://www.international.gc.ca/world-monde/in...</td>\n",
       "      <td>2025-06-17</td>\n",
       "      <td>Statement of the Co-Chairs of the “United Nati...</td>\n",
       "      <td>Peacebuilding</td>\n",
       "      <td>2025</td>\n",
       "    </tr>\n",
       "    <tr>\n",
       "      <th>4</th>\n",
       "      <td>Explanation of Vote – Yes – Protection of civi...</td>\n",
       "      <td>https://www.international.gc.ca/world-monde/in...</td>\n",
       "      <td>2025-06-12</td>\n",
       "      <td>Canada voted in favour of this resolution toda...</td>\n",
       "      <td>UN and Multilateral Diplomacy</td>\n",
       "      <td>2025</td>\n",
       "    </tr>\n",
       "  </tbody>\n",
       "</table>\n",
       "</div>"
      ],
      "text/plain": [
       "                                               title  \\\n",
       "0  Statement by Canada, Australia and New Zealand...   \n",
       "1  Statement by the Group of Friends of Children ...   \n",
       "2  Security Council open debate on “Poverty, unde...   \n",
       "3  Statement of the Co-Chairs of the “United Nati...   \n",
       "4  Explanation of Vote – Yes – Protection of civi...   \n",
       "\n",
       "                                                 url       date  \\\n",
       "0  https://www.international.gc.ca/world-monde/in... 2025-06-25   \n",
       "1  https://www.international.gc.ca/world-monde/in... 2025-06-25   \n",
       "2  https://www.international.gc.ca/world-monde/in... 2025-06-19   \n",
       "3  https://www.international.gc.ca/world-monde/in... 2025-06-17   \n",
       "4  https://www.international.gc.ca/world-monde/in... 2025-06-12   \n",
       "\n",
       "                                                text  \\\n",
       "0  I am pleased to deliver this statement on beha...   \n",
       "1  I have the honour to deliver this statement on...   \n",
       "2  Canada applauds Guyana for its leadership of t...   \n",
       "3  Statement of the Co-Chairs of the “United Nati...   \n",
       "4  Canada voted in favour of this resolution toda...   \n",
       "\n",
       "                           theme  year  \n",
       "0              Children's Rights  2025  \n",
       "1                  Peacebuilding  2025  \n",
       "2                  Peacebuilding  2025  \n",
       "3                  Peacebuilding  2025  \n",
       "4  UN and Multilateral Diplomacy  2025  "
      ]
     },
     "execution_count": 81,
     "metadata": {},
     "output_type": "execute_result"
    }
   ],
   "source": [
    "tagged = tagged.melt(\n",
    "    id_vars = [col for col in tagged.columns if col not in ['theme_1', 'theme_2']],\n",
    "    value_vars = ['theme_1', 'theme_2'],\n",
    "    var_name = 'theme_source',\n",
    "    value_name = 'theme'\n",
    ")\n",
    "\n",
    "tagged = tagged.drop(columns=['theme_source'])\n",
    "\n",
    "tagged['date'] = pd.to_datetime(tagged['date'], errors='coerce')\n",
    "tagged['year'] = tagged['date'].dt.year\n",
    "\n",
    "tagged.head()"
   ]
  },
  {
   "cell_type": "code",
   "execution_count": 82,
   "id": "502e3c88",
   "metadata": {},
   "outputs": [
    {
     "name": "stdout",
     "output_type": "stream",
     "text": [
      "Data successfully saved to tagging in canada_mission_statements.xlsx\n"
     ]
    }
   ],
   "source": [
    "sheet_name = \"tagging\"\n",
    "\n",
    "with pd.ExcelWriter(excel_path, engine='openpyxl', mode='a', if_sheet_exists=\"replace\") as writer:\n",
    "    tagged.to_excel(writer, sheet_name=sheet_name, index=False)\n",
    "\n",
    "print(f\"Data successfully saved to {sheet_name} in {excel_path}\")"
   ]
  }
 ],
 "metadata": {
  "kernelspec": {
   "display_name": "gensim-env",
   "language": "python",
   "name": "python3"
  },
  "language_info": {
   "codemirror_mode": {
    "name": "ipython",
    "version": 3
   },
   "file_extension": ".py",
   "mimetype": "text/x-python",
   "name": "python",
   "nbconvert_exporter": "python",
   "pygments_lexer": "ipython3",
   "version": "3.11.13"
  }
 },
 "nbformat": 4,
 "nbformat_minor": 5
}
