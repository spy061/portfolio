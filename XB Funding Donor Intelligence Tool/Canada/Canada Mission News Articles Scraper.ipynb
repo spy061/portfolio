{
 "cells": [
  {
   "cell_type": "markdown",
   "id": "8f5fa1dd",
   "metadata": {},
   "source": [
    "CANADA MISSION NEWS ARTICLES"
   ]
  },
  {
   "cell_type": "markdown",
   "id": "1a24abdf",
   "metadata": {},
   "source": [
    "https://www.international.gc.ca/world-monde/international_relations-relations_internationales/un-onu/news-nouvelles/index.aspx?lang=eng"
   ]
  },
  {
   "cell_type": "markdown",
   "id": "9442acdc",
   "metadata": {},
   "source": [
    "STEP 1 - SCRAPE DATA FROM WEBSITE"
   ]
  },
  {
   "cell_type": "code",
   "execution_count": 2,
   "id": "98861f81",
   "metadata": {},
   "outputs": [],
   "source": [
    "import requests\n",
    "from bs4 import BeautifulSoup\n",
    "from datetime import datetime\n",
    "import pandas as pd"
   ]
  },
  {
   "cell_type": "code",
   "execution_count": 10,
   "id": "20fc64d3",
   "metadata": {},
   "outputs": [],
   "source": [
    "URL = \"https://www.international.gc.ca/world-monde/international_relations-relations_internationales/un-onu/news-nouvelles/index.aspx?lang=eng\"\n",
    "CUTOFF_DATE = datetime(2018, 1, 1)\n",
    "\n",
    "response = requests.get(URL)\n",
    "soup = BeautifulSoup(response.content, \"html.parser\")\n",
    "\n",
    "articles = []\n",
    "\n",
    "for li in soup.select(\"ul.feeds-cont > li\"):\n",
    "    a_tag = li.find(\"a\", href=True)\n",
    "    time_tag = li.find(\"time\")\n",
    "\n",
    "    if a_tag and time_tag:\n",
    "        title = a_tag.text.strip()\n",
    "        href = a_tag['href'].strip()\n",
    "        url = href if href.startswith(\"http\") else \"https://www.international.gc.ca\" + href\n",
    "        date_str = time_tag.text.strip()\n",
    "\n",
    "        try:\n",
    "            date = datetime.strptime(date_str, \"%Y-%m-%d\")\n",
    "        except ValueError:\n",
    "            continue\n",
    "\n",
    "        if date >= CUTOFF_DATE:\n",
    "            articles.append({\n",
    "                \"title\": title,\n",
    "                \"url\": url,\n",
    "                \"date\": date.strftime(\"%Y-%m-%d\")\n",
    "            })\n",
    "\n",
    "# Save to DataFrame\n",
    "df = pd.DataFrame(articles)"
   ]
  },
  {
   "cell_type": "code",
   "execution_count": 12,
   "id": "12fe85e1",
   "metadata": {},
   "outputs": [],
   "source": [
    "def extract_clean_paragraphs(paragraphs):\n",
    "    cleaned = []\n",
    "    for p in paragraphs:\n",
    "        # If <p> only contains a single <strong> or <em>, skip it\n",
    "        children = list(p.children)\n",
    "        if len(children) == 1 and (p.find(\"strong\") or p.find(\"em\")):\n",
    "            continue\n",
    "        text = p.get_text(strip=True)\n",
    "        if text and len(text) > 30:  # filter out short/boilerplate stuff\n",
    "            cleaned.append(text)\n",
    "    return \"\\n\\n\".join(cleaned)\n",
    "\n",
    "def extract_article_content(url):\n",
    "    try:\n",
    "        res = requests.get(url, timeout=10)\n",
    "        soup = BeautifulSoup(res.content, \"html.parser\")\n",
    "        main = soup.find(\"main\")\n",
    "        if not main:\n",
    "            return \"\"\n",
    "        paragraphs = main.find_all(\"p\")\n",
    "        return extract_clean_paragraphs(paragraphs)\n",
    "    except Exception as e:\n",
    "        print(f\"❌ Failed to scrape {url}: {e}\")\n",
    "        return \"\""
   ]
  },
  {
   "cell_type": "code",
   "execution_count": 13,
   "id": "1177455b",
   "metadata": {},
   "outputs": [
    {
     "name": "stdout",
     "output_type": "stream",
     "text": [
      "📄 Articles saved to canada_mission_statements.xlsx\n"
     ]
    }
   ],
   "source": [
    "# Add new \"content\" column to the existing DataFrame\n",
    "df[\"text\"] = df[\"url\"].apply(extract_article_content)\n",
    "\n",
    "excel_path = \"canada_mission_statements.xlsx\"\n",
    "sheet_name = 'raw'\n",
    "\n",
    "df.to_excel(excel_path, sheet_name=sheet_name, index=False)\n",
    "print(f\"📄 Articles saved to {excel_path}\")"
   ]
  },
  {
   "cell_type": "markdown",
   "id": "69241f5d",
   "metadata": {},
   "source": [
    "STEP 2 - DATA ANALYSIS"
   ]
  },
  {
   "cell_type": "code",
   "execution_count": 76,
   "id": "d26705bd",
   "metadata": {},
   "outputs": [],
   "source": [
    "from sklearn.feature_extraction.text import CountVectorizer\n",
    "from sklearn.feature_extraction.text import TfidfVectorizer\n",
    "from sklearn.decomposition import LatentDirichletAllocation\n",
    "from sklearn.feature_extraction import _stop_words\n",
    "from gensim import corpora\n",
    "from gensim.models import Phrases, LdaModel\n",
    "from gensim.models.phrases import Phraser\n",
    "from wordcloud import WordCloud\n",
    "import numpy as np\n",
    "import matplotlib.pyplot as plt\n",
    "import re\n",
    "\n",
    "# Custom stopwords\n",
    "custom_stopwords = set([\n",
    "    'minister', 'honourable', 'security', 'council', 'foreign', 'united', 'nations',\n",
    "    'canada', 'operations','conference', 'international', 'global', 'today', 'world',\n",
    "    'public', 'assembly', 'states', 'continue', 'permanent', 'day', 'help', 'recognized',\n",
    "    'live','strengthen', 'country', 'work', 'need', 'new', 'gc', 'chrystia', 'affairs',\n",
    "    'including', 'ensure', '2018', 'media', 'session', 'new', 'york', 'years', 'member',\n",
    "    'like', 'way', 'important', 'june', 'support', 'general', 'shared', 'million', 'countries',\n",
    "    'implementation', 'development', 'efforts', 'address', 'canadians', 'announced', 'canadas',\n",
    "    'office', 'accordance', '27', 'commitment', 'based', 'thank', 'following'\n",
    "])\n",
    "\n",
    "texts = df['text']\n",
    "\n",
    "# Combine the default English stopwords with custom list:\n",
    "english_stopwords = _stop_words.ENGLISH_STOP_WORDS  # set of default english stopwords\n",
    "all_stopwords = list(english_stopwords.union(custom_stopwords))\n",
    "\n",
    "vectorizer = CountVectorizer(\n",
    "    max_df=0.85, \n",
    "    min_df=5, \n",
    "    stop_words=all_stopwords\n",
    ")"
   ]
  },
  {
   "cell_type": "markdown",
   "id": "6649a445",
   "metadata": {},
   "source": [
    "Theme Identification via Natural Language Processing (NLP)"
   ]
  },
  {
   "cell_type": "code",
   "execution_count": 77,
   "id": "25b22e33",
   "metadata": {},
   "outputs": [
    {
     "name": "stdout",
     "output_type": "stream",
     "text": [
      "Topic 0:\n",
      "['women', 'rights', 'human']\n",
      "Topic 1:\n",
      "['russia', 'peace', 'freeland']\n",
      "Topic 2:\n",
      "['rights', 'government', 'twitter']\n",
      "Topic 3:\n",
      "['humanitarian', 'civilians', 'law']\n",
      "Topic 4:\n",
      "['rights', 'human', 'people']\n"
     ]
    }
   ],
   "source": [
    "# Topic Identification without bigrams\n",
    "dtm = vectorizer.fit_transform(texts)\n",
    "\n",
    "lda = LatentDirichletAllocation(n_components=5, random_state=42)\n",
    "lda.fit(dtm)\n",
    "\n",
    "# Function to print topics\n",
    "def print_topics(model, feature_names, n_top_words):\n",
    "    for idx, topic in enumerate(model.components_):\n",
    "        print(f\"Topic {idx}:\")\n",
    "        print([feature_names[i] for i in topic.argsort()[:-n_top_words - 1:-1]])\n",
    "\n",
    "print_topics(lda, vectorizer.get_feature_names_out(),3)"
   ]
  },
  {
   "cell_type": "code",
   "execution_count": 78,
   "id": "8b263862",
   "metadata": {},
   "outputs": [
    {
     "data": {
      "image/png": "[encoded data removed]",
      "text/plain": [
       "<Figure size 600x600 with 3 Axes>"
      ]
     },
     "metadata": {},
     "output_type": "display_data"
    }
   ],
   "source": [
    "# Topic identification with bigrams\n",
    "# Text preprocessing function\n",
    "def preprocess(text):\n",
    "    text = text.lower()\n",
    "    text = re.sub(r'[^a-z\\s]', '', text)\n",
    "    tokens = text.split()\n",
    "    tokens = [token for token in tokens if token not in all_stopwords and len(token) > 2]\n",
    "    return tokens\n",
    "\n",
    "# Tokenize texts\n",
    "tokenized_texts = [preprocess(doc) for doc in texts]\n",
    "\n",
    "# Build bigrams\n",
    "bigram_model = Phrases(tokenized_texts, min_count=5, threshold=10)\n",
    "bigram_phraser = Phraser(bigram_model)\n",
    "texts_with_bigrams = [bigram_phraser[doc] for doc in tokenized_texts]\n",
    "\n",
    "# Create dictionary and corpus for LDA\n",
    "dictionary = corpora.Dictionary(texts_with_bigrams)\n",
    "dictionary.filter_extremes(no_below=5, no_above=0.75)\n",
    "corpus = [dictionary.doc2bow(text) for text in texts_with_bigrams]\n",
    "\n",
    "# Train LDA model with 3 topics\n",
    "num_topics = 3\n",
    "lda_model = LdaModel(\n",
    "    corpus=corpus,\n",
    "    id2word=dictionary,\n",
    "    num_topics=num_topics,\n",
    "    random_state=42,\n",
    "    passes=10,\n",
    "    alpha='auto',\n",
    "    per_word_topics=True\n",
    ")\n",
    "\n",
    "# Define figure size in inches for a roughly square layout\n",
    "fig_width = 6\n",
    "fig_height = 6\n",
    "\n",
    "# Each word cloud will have height = fig_height / num_topics\n",
    "wc_width = int(fig_width * 100)   # 100 dpi\n",
    "wc_height = int((fig_height / num_topics) * 100)\n",
    "\n",
    "plt.figure(figsize=(fig_width, fig_height))\n",
    "\n",
    "for topic_id in range(num_topics):\n",
    "    plt.subplot(num_topics, 1, topic_id + 1)\n",
    "    words_probs = dict(lda_model.show_topic(topic_id, topn=5))\n",
    "    wc = WordCloud(\n",
    "        width=wc_width,\n",
    "        height=wc_height,\n",
    "        background_color='white',\n",
    "        colormap='tab10',\n",
    "        prefer_horizontal=0.9,\n",
    "        min_font_size=15,\n",
    "    ).generate_from_frequencies(words_probs)\n",
    "    plt.imshow(wc, interpolation='bilinear')\n",
    "    plt.axis('off')\n",
    "    plt.title(f\"Topic {topic_id + 1}\", fontsize=14)\n",
    "\n",
    "plt.tight_layout()\n",
    "plt.show()"
   ]
  },
  {
   "cell_type": "code",
   "execution_count": 79,
   "id": "95656ef5",
   "metadata": {},
   "outputs": [
    {
     "name": "stdout",
     "output_type": "stream",
     "text": [
      "Data successfully saved to Topic_WordCloud in canada_mission_statements.xlsx\n"
     ]
    }
   ],
   "source": [
    "# Export Topics Words and Weights to Excel for PowerBI\n",
    "topic_words = []\n",
    "num_words = 5  # Adjust based on your needs\n",
    "\n",
    "for topic_id in range(num_topics):\n",
    "    words_probs = lda_model.show_topic(topic_id, topn=num_words)\n",
    "    for word, prob in words_probs:\n",
    "        topic_words.append({\"Topic\": topic_id + 1, \"Word\": word, \"Probability\": prob})\n",
    "\n",
    "# Convert to DataFrame\n",
    "wc = pd.DataFrame(topic_words)\n",
    "\n",
    "sheet_name = \"Topic_WordCloud\"\n",
    "\n",
    "with pd.ExcelWriter(excel_path, engine='openpyxl', mode='a', if_sheet_exists=\"replace\") as writer:\n",
    "    wc.to_excel(writer, sheet_name=sheet_name, index=False)\n",
    "\n",
    "print(f\"Data successfully saved to {sheet_name} in {excel_path}\")"
   ]
  },
  {
   "cell_type": "markdown",
   "id": "71e740de",
   "metadata": {},
   "source": [
    "Identifying Themes via Keyword Frequency"
   ]
  },
  {
   "cell_type": "code",
   "execution_count": 80,
   "id": "b5b3bb89",
   "metadata": {},
   "outputs": [
    {
     "name": "stdout",
     "output_type": "stream",
     "text": [
      "Bag of Words Matrix:\n",
      "    12  203  7700media  activities  adam  advance  affairsadam  affected  \\\n",
      "0   0    0          0           2     0        0            0         0   \n",
      "1   0    0          0           1     0        0            0         0   \n",
      "2   0    0          0           0     0        0            0         0   \n",
      "3   0    0          0           0     0        3            0         0   \n",
      "4   0    0          0           2     0        0            0         0   \n",
      "\n",
      "   allow  approach  ...  threat  time  twitter  ukraine  use  violations  \\\n",
      "0      1         0  ...       3     2        0        2    0           2   \n",
      "1      2         0  ...       0     0        0        0    0           0   \n",
      "2      0         0  ...       0     0        1        0    0           0   \n",
      "3      0         2  ...       2     2        1        2    0           0   \n",
      "4      0         0  ...       0     0        0        0    0           0   \n",
      "\n",
      "   violence  war  women  working  \n",
      "0         0    2      0        0  \n",
      "1         1    0      0        0  \n",
      "2         0    0      0        0  \n",
      "3         0    2      3        1  \n",
      "4         1    0      0        1  \n",
      "\n",
      "[5 rows x 98 columns]\n"
     ]
    }
   ],
   "source": [
    "X = vectorizer.fit_transform(texts)\n",
    "\n",
    "# Convert to readable DataFrame\n",
    "X_array = X.toarray()\n",
    "vocab = vectorizer.get_feature_names_out()\n",
    "bow_df = pd.DataFrame(X_array, columns=vocab)\n",
    "\n",
    "# View output\n",
    "print(\"Bag of Words Matrix:\\n\", bow_df.head())"
   ]
  },
  {
   "cell_type": "code",
   "execution_count": 81,
   "id": "e7b8c70d",
   "metadata": {},
   "outputs": [
    {
     "name": "stdout",
     "output_type": "stream",
     "text": [
      "Top words:\n",
      "rights             94\n",
      "human              76\n",
      "women              63\n",
      "peace              52\n",
      "policy             29\n",
      "russia             29\n",
      "government         25\n",
      "humanitarian       25\n",
      "people             21\n",
      "conflict           21\n",
      "violence           20\n",
      "resolution         19\n",
      "initiative         18\n",
      "girls              17\n",
      "freeland           17\n",
      "twitter            17\n",
      "relations          17\n",
      "law                16\n",
      "ca                 16\n",
      "secretaryoffice    15\n",
      "dtype: int64\n"
     ]
    }
   ],
   "source": [
    "# Sum each word's count across all rows\n",
    "word_counts = bow_df.sum(axis=0)\n",
    "\n",
    "# Sort words by frequency (descending)\n",
    "top_words = word_counts.sort_values(ascending=False)\n",
    "\n",
    "print(\"Top words:\")\n",
    "print(top_words.head(20))"
   ]
  },
  {
   "cell_type": "code",
   "execution_count": 82,
   "id": "b2ee0b0c",
   "metadata": {},
   "outputs": [
    {
     "name": "stdout",
     "output_type": "stream",
     "text": [
      "Top Themes by TF-IDF:\n",
      "rights          1.775967\n",
      "human           1.416986\n",
      "women           1.304100\n",
      "peace           1.123045\n",
      "humanitarian    1.036563\n",
      "disabilities    0.924981\n",
      "persons         0.838648\n",
      "peacekeeping    0.801138\n",
      "israel          0.797671\n",
      "freeland        0.772282\n",
      "dtype: float64\n"
     ]
    }
   ],
   "source": [
    "# Determine the most important words using TF-IDF\n",
    "# Create a TF-IDF Vectorizer\n",
    "tfidf_vectorizer = TfidfVectorizer(stop_words=all_stopwords)\n",
    "tfidf_matrix = tfidf_vectorizer.fit_transform(texts)\n",
    "\n",
    "# Convert to DataFrame\n",
    "tfidf_df = pd.DataFrame(tfidf_matrix.toarray(), columns=tfidf_vectorizer.get_feature_names_out())\n",
    "\n",
    "# To get overall importance of each word across the corpus, sum TF-IDF scores across all documents\n",
    "word_importance = tfidf_df.sum(axis=0).sort_values(ascending=False)\n",
    "\n",
    "print(\"Top Themes by TF-IDF:\")\n",
    "print(word_importance.head(10))"
   ]
  },
  {
   "cell_type": "markdown",
   "id": "2c91f5eb",
   "metadata": {},
   "source": [
    "AI Tagging"
   ]
  },
  {
   "cell_type": "code",
   "execution_count": 3,
   "id": "ff4ad27b",
   "metadata": {},
   "outputs": [],
   "source": [
    "excel_path = \"canada_mission_news.xlsx\""
   ]
  },
  {
   "cell_type": "code",
   "execution_count": 4,
   "id": "7bc7174b",
   "metadata": {},
   "outputs": [
    {
     "data": {
      "text/html": [
       "<div>\n",
       "<style scoped>\n",
       "    .dataframe tbody tr th:only-of-type {\n",
       "        vertical-align: middle;\n",
       "    }\n",
       "\n",
       "    .dataframe tbody tr th {\n",
       "        vertical-align: top;\n",
       "    }\n",
       "\n",
       "    .dataframe thead th {\n",
       "        text-align: right;\n",
       "    }\n",
       "</style>\n",
       "<table border=\"1\" class=\"dataframe\">\n",
       "  <thead>\n",
       "    <tr style=\"text-align: right;\">\n",
       "      <th></th>\n",
       "      <th>title</th>\n",
       "      <th>url</th>\n",
       "      <th>date</th>\n",
       "      <th>text</th>\n",
       "      <th>theme_1</th>\n",
       "      <th>theme_2</th>\n",
       "    </tr>\n",
       "  </thead>\n",
       "  <tbody>\n",
       "    <tr>\n",
       "      <th>0</th>\n",
       "      <td>Canada’s remarks at the UN General Assembly Ve...</td>\n",
       "      <td>https://www.international.gc.ca/world-monde/in...</td>\n",
       "      <td>2024-04-11</td>\n",
       "      <td>When Canada served as Chair of the Angola Sanc...</td>\n",
       "      <td>Weapon Proliferation</td>\n",
       "      <td>Sanction Enforcement</td>\n",
       "    </tr>\n",
       "    <tr>\n",
       "      <th>1</th>\n",
       "      <td>Remarks on behalf of Canada, Australia, New Ze...</td>\n",
       "      <td>https://www.international.gc.ca/world-monde/in...</td>\n",
       "      <td>2024-04-08</td>\n",
       "      <td>I make this statement on behalf of Australia, ...</td>\n",
       "      <td>Israel - Palestine Conflict</td>\n",
       "      <td>Humanitarian Aid</td>\n",
       "    </tr>\n",
       "    <tr>\n",
       "      <th>2</th>\n",
       "      <td>Canada’s explanation of vote on today’s resolu...</td>\n",
       "      <td>https://www.international.gc.ca/news-nouvelles...</td>\n",
       "      <td>2023-10-27</td>\n",
       "      <td>October 27, 2023 - Ottawa, Ontario - Global Af...</td>\n",
       "      <td>Israel - Palestine Conflict</td>\n",
       "      <td>Humanitarian Aid</td>\n",
       "    </tr>\n",
       "    <tr>\n",
       "      <th>3</th>\n",
       "      <td>Minister Joly announces Canada's United Nation...</td>\n",
       "      <td>https://www.canada.ca/en/global-affairs/news/2...</td>\n",
       "      <td>2023-05-09</td>\n",
       "      <td>Human rights are the foundation of freedom, ju...</td>\n",
       "      <td>Human Rights</td>\n",
       "      <td>Equity and Inclusion</td>\n",
       "    </tr>\n",
       "    <tr>\n",
       "      <th>4</th>\n",
       "      <td>Canada’s remarks at UN Human Rights Council Sp...</td>\n",
       "      <td>https://www.international.gc.ca/news-nouvelles...</td>\n",
       "      <td>2021-05-27</td>\n",
       "      <td>“Canada welcomes the ceasefire in Israel and G...</td>\n",
       "      <td>Israel - Palestine Conflict</td>\n",
       "      <td>Human Rights</td>\n",
       "    </tr>\n",
       "  </tbody>\n",
       "</table>\n",
       "</div>"
      ],
      "text/plain": [
       "                                               title  \\\n",
       "0  Canada’s remarks at the UN General Assembly Ve...   \n",
       "1  Remarks on behalf of Canada, Australia, New Ze...   \n",
       "2  Canada’s explanation of vote on today’s resolu...   \n",
       "3  Minister Joly announces Canada's United Nation...   \n",
       "4  Canada’s remarks at UN Human Rights Council Sp...   \n",
       "\n",
       "                                                 url        date  \\\n",
       "0  https://www.international.gc.ca/world-monde/in...  2024-04-11   \n",
       "1  https://www.international.gc.ca/world-monde/in...  2024-04-08   \n",
       "2  https://www.international.gc.ca/news-nouvelles...  2023-10-27   \n",
       "3  https://www.canada.ca/en/global-affairs/news/2...  2023-05-09   \n",
       "4  https://www.international.gc.ca/news-nouvelles...  2021-05-27   \n",
       "\n",
       "                                                text  \\\n",
       "0  When Canada served as Chair of the Angola Sanc...   \n",
       "1  I make this statement on behalf of Australia, ...   \n",
       "2  October 27, 2023 - Ottawa, Ontario - Global Af...   \n",
       "3  Human rights are the foundation of freedom, ju...   \n",
       "4  “Canada welcomes the ceasefire in Israel and G...   \n",
       "\n",
       "                       theme_1               theme_2  \n",
       "0         Weapon Proliferation  Sanction Enforcement  \n",
       "1  Israel - Palestine Conflict      Humanitarian Aid  \n",
       "2  Israel - Palestine Conflict      Humanitarian Aid  \n",
       "3                 Human Rights  Equity and Inclusion  \n",
       "4  Israel - Palestine Conflict          Human Rights  "
      ]
     },
     "execution_count": 4,
     "metadata": {},
     "output_type": "execute_result"
    }
   ],
   "source": [
    "tagged = pd.read_excel(excel_path, sheet_name=\"raw\")\n",
    "\n",
    "tagged.head()"
   ]
  },
  {
   "cell_type": "code",
   "execution_count": 5,
   "id": "da9cbc79",
   "metadata": {},
   "outputs": [
    {
     "data": {
      "text/html": [
       "<div>\n",
       "<style scoped>\n",
       "    .dataframe tbody tr th:only-of-type {\n",
       "        vertical-align: middle;\n",
       "    }\n",
       "\n",
       "    .dataframe tbody tr th {\n",
       "        vertical-align: top;\n",
       "    }\n",
       "\n",
       "    .dataframe thead th {\n",
       "        text-align: right;\n",
       "    }\n",
       "</style>\n",
       "<table border=\"1\" class=\"dataframe\">\n",
       "  <thead>\n",
       "    <tr style=\"text-align: right;\">\n",
       "      <th></th>\n",
       "      <th>title</th>\n",
       "      <th>url</th>\n",
       "      <th>date</th>\n",
       "      <th>text</th>\n",
       "      <th>theme</th>\n",
       "      <th>year</th>\n",
       "    </tr>\n",
       "  </thead>\n",
       "  <tbody>\n",
       "    <tr>\n",
       "      <th>0</th>\n",
       "      <td>Canada’s remarks at the UN General Assembly Ve...</td>\n",
       "      <td>https://www.international.gc.ca/world-monde/in...</td>\n",
       "      <td>2024-04-11</td>\n",
       "      <td>When Canada served as Chair of the Angola Sanc...</td>\n",
       "      <td>Weapon Proliferation</td>\n",
       "      <td>2024</td>\n",
       "    </tr>\n",
       "    <tr>\n",
       "      <th>1</th>\n",
       "      <td>Remarks on behalf of Canada, Australia, New Ze...</td>\n",
       "      <td>https://www.international.gc.ca/world-monde/in...</td>\n",
       "      <td>2024-04-08</td>\n",
       "      <td>I make this statement on behalf of Australia, ...</td>\n",
       "      <td>Israel - Palestine Conflict</td>\n",
       "      <td>2024</td>\n",
       "    </tr>\n",
       "    <tr>\n",
       "      <th>2</th>\n",
       "      <td>Canada’s explanation of vote on today’s resolu...</td>\n",
       "      <td>https://www.international.gc.ca/news-nouvelles...</td>\n",
       "      <td>2023-10-27</td>\n",
       "      <td>October 27, 2023 - Ottawa, Ontario - Global Af...</td>\n",
       "      <td>Israel - Palestine Conflict</td>\n",
       "      <td>2023</td>\n",
       "    </tr>\n",
       "    <tr>\n",
       "      <th>3</th>\n",
       "      <td>Minister Joly announces Canada's United Nation...</td>\n",
       "      <td>https://www.canada.ca/en/global-affairs/news/2...</td>\n",
       "      <td>2023-05-09</td>\n",
       "      <td>Human rights are the foundation of freedom, ju...</td>\n",
       "      <td>Human Rights</td>\n",
       "      <td>2023</td>\n",
       "    </tr>\n",
       "    <tr>\n",
       "      <th>4</th>\n",
       "      <td>Canada’s remarks at UN Human Rights Council Sp...</td>\n",
       "      <td>https://www.international.gc.ca/news-nouvelles...</td>\n",
       "      <td>2021-05-27</td>\n",
       "      <td>“Canada welcomes the ceasefire in Israel and G...</td>\n",
       "      <td>Israel - Palestine Conflict</td>\n",
       "      <td>2021</td>\n",
       "    </tr>\n",
       "  </tbody>\n",
       "</table>\n",
       "</div>"
      ],
      "text/plain": [
       "                                               title  \\\n",
       "0  Canada’s remarks at the UN General Assembly Ve...   \n",
       "1  Remarks on behalf of Canada, Australia, New Ze...   \n",
       "2  Canada’s explanation of vote on today’s resolu...   \n",
       "3  Minister Joly announces Canada's United Nation...   \n",
       "4  Canada’s remarks at UN Human Rights Council Sp...   \n",
       "\n",
       "                                                 url       date  \\\n",
       "0  https://www.international.gc.ca/world-monde/in... 2024-04-11   \n",
       "1  https://www.international.gc.ca/world-monde/in... 2024-04-08   \n",
       "2  https://www.international.gc.ca/news-nouvelles... 2023-10-27   \n",
       "3  https://www.canada.ca/en/global-affairs/news/2... 2023-05-09   \n",
       "4  https://www.international.gc.ca/news-nouvelles... 2021-05-27   \n",
       "\n",
       "                                                text  \\\n",
       "0  When Canada served as Chair of the Angola Sanc...   \n",
       "1  I make this statement on behalf of Australia, ...   \n",
       "2  October 27, 2023 - Ottawa, Ontario - Global Af...   \n",
       "3  Human rights are the foundation of freedom, ju...   \n",
       "4  “Canada welcomes the ceasefire in Israel and G...   \n",
       "\n",
       "                         theme  year  \n",
       "0         Weapon Proliferation  2024  \n",
       "1  Israel - Palestine Conflict  2024  \n",
       "2  Israel - Palestine Conflict  2023  \n",
       "3                 Human Rights  2023  \n",
       "4  Israel - Palestine Conflict  2021  "
      ]
     },
     "execution_count": 5,
     "metadata": {},
     "output_type": "execute_result"
    }
   ],
   "source": [
    "tagged = tagged.melt(\n",
    "    id_vars = [col for col in tagged.columns if col not in ['theme_1', 'theme_2']],\n",
    "    value_vars = ['theme_1', 'theme_2'],\n",
    "    var_name = 'theme_source',\n",
    "    value_name = 'theme'\n",
    ")\n",
    "\n",
    "tagged = tagged.drop(columns=['theme_source'])\n",
    "\n",
    "tagged['date'] = pd.to_datetime(tagged['date'], errors='coerce')\n",
    "tagged['year'] = tagged['date'].dt.year\n",
    "\n",
    "tagged.head()"
   ]
  },
  {
   "cell_type": "code",
   "execution_count": 6,
   "id": "502e3c88",
   "metadata": {},
   "outputs": [
    {
     "name": "stdout",
     "output_type": "stream",
     "text": [
      "Data successfully saved to tagging in canada_mission_news.xlsx\n"
     ]
    }
   ],
   "source": [
    "sheet_name = \"tagging\"\n",
    "\n",
    "with pd.ExcelWriter(excel_path, engine='openpyxl', mode='a', if_sheet_exists=\"replace\") as writer:\n",
    "    tagged.to_excel(writer, sheet_name=sheet_name, index=False)\n",
    "\n",
    "print(f\"Data successfully saved to {sheet_name} in {excel_path}\")"
   ]
  }
 ],
 "metadata": {
  "kernelspec": {
   "display_name": "gensim-env",
   "language": "python",
   "name": "python3"
  },
  "language_info": {
   "codemirror_mode": {
    "name": "ipython",
    "version": 3
   },
   "file_extension": ".py",
   "mimetype": "text/x-python",
   "name": "python",
   "nbconvert_exporter": "python",
   "pygments_lexer": "ipython3",
   "version": "3.11.13"
  }
 },
 "nbformat": 4,
 "nbformat_minor": 5
}
